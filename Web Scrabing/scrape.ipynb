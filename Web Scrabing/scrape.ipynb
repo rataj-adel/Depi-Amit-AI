{
 "cells": [
  {
   "cell_type": "code",
   "execution_count": 3,
   "id": "48bb9c92",
   "metadata": {},
   "outputs": [
    {
     "name": "stdout",
     "output_type": "stream",
     "text": [
      "\n",
      "Job Title       : AI Engineer - Travel Tech\n",
      "Company Name    : Rahala -\n",
      "Location        : Mohandessin, Giza, Egypt\n",
      "Details         : Full TimeOn-siteExperienced · 2+ Yrs of Exp · IT/Software Development · Analyst/Research · Engineering - Telecom/Technology · AI · Computer Science · Data Science · Engineering · Information Technology (IT) · Machine Learning · Python\n",
      "    \n",
      "============================================================\n",
      "\n",
      "Job Title       : Data Scientist\n",
      "Company Name    : Lumin -\n",
      "Location        : Sheikh Zayed, Giza, Egypt\n",
      "Details         : Full TimeHybridExperienced · 3+ Yrs of Exp · IT/Software Development · Analyst/Research · Engineering - Telecom/Technology · Computer Science · Analysis · Mathematics · Data Analysis · Hadoop · Data Science · Information Technology (IT)\n",
      "    \n",
      "============================================================\n",
      "\n",
      "Job Title       : Data Scientist\n",
      "Company Name    : Egabi FSI -\n",
      "Location        : Sheraton, Cairo, Egypt\n",
      "Details         : Full TimeOn-siteEntry Level · 1 - 4 Yrs of Exp · IT/Software Development · Engineering - Telecom/Technology · Computer Science · Data Mining · Data Science · data scientist · Hadoop · Machine Learning · Python · SQL\n",
      "    \n",
      "============================================================\n",
      "\n",
      "Job Title       : Graduate Internship: Enterprise Software Engineering\n",
      "Company Name    : eT3 - Tomorrow Information Technology -\n",
      "Location        : New Cairo, Cairo, Egypt\n",
      "Details         : InternshipHybridEntry Level · IT/Software Development · Computer Science · Software Development · Software Engineering · Computer Engineering · Back-End Development · Front-End Development · front-end web development · Software Testing · Data Engineering\n",
      "    \n",
      "============================================================\n",
      "\n",
      "Job Title       : AI Engineer\n",
      "Company Name    : ProVision Group -\n",
      "Location        : Maadi, Cairo, Egypt\n",
      "Details         : Full TimePart TimeFreelance / ProjectHybridExperienced · 2 - 7 Yrs of Exp · IT/Software Development · AI · Computer Vision · Data Science · Machine Learning\n",
      "    \n",
      "============================================================\n"
     ]
    }
   ],
   "source": [
    "import requests\n",
    "from bs4 import BeautifulSoup\n",
    "\n",
    "url = \"https://wuzzuf.net/search/jobs/?q=machine%20learning\"\n",
    "headers = {\n",
    "    'User-Agent': 'Mozilla/5.0 (Windows NT 10.0; Win64; x64)'\n",
    "}\n",
    "response = requests.get(url, headers=headers)\n",
    "\n",
    "soup = BeautifulSoup(response.content, 'lxml')\n",
    "jobs = soup.find_all('div', class_='css-1gatmva')\n",
    "\n",
    "for job in jobs[:5]:\n",
    "    title = job.find('h2', class_='css-m604qf').text.strip()\n",
    "    company = job.find('a', class_='css-17s97q8').text.strip()\n",
    "    location = job.find('span', class_='css-5wys0k').text.strip()\n",
    "    details = job.find('div', class_='css-y4udm8').text.strip()\n",
    "\n",
    "    print(f\"\"\"\n",
    "Job Title       : {title}\n",
    "Company Name    : {company}\n",
    "Location        : {location}\n",
    "Details         : {details}\n",
    "    \"\"\")\n",
    "    print(\"=\" * 60)"
   ]
  },
  {
   "cell_type": "code",
   "execution_count": null,
   "id": "79484695",
   "metadata": {},
   "outputs": [],
   "source": []
  }
 ],
 "metadata": {
  "kernelspec": {
   "display_name": "base",
   "language": "python",
   "name": "python3"
  },
  "language_info": {
   "codemirror_mode": {
    "name": "ipython",
    "version": 3
   },
   "file_extension": ".py",
   "mimetype": "text/x-python",
   "name": "python",
   "nbconvert_exporter": "python",
   "pygments_lexer": "ipython3",
   "version": "3.12.7"
  }
 },
 "nbformat": 4,
 "nbformat_minor": 5
}
