{
 "cells": [
  {
   "cell_type": "code",
   "execution_count": 39,
   "id": "ba03213c",
   "metadata": {},
   "outputs": [],
   "source": [
    "class Student:\n",
    "    _id_counter = 1\n",
    "\n",
    "    def __init__(self, name):\n",
    "        self.name = name\n",
    "        self.student_id = Student._id_counter\n",
    "        Student._id_counter +=1\n",
    "        self.grades = {}\n",
    "        self.enrolled_courses = []\n",
    "    def __str__(self):\n",
    "        return f\"Student ID: {self.student_id}, Name : {self.name},Grades : {(self.grades)}  \"   \n",
    "        \n",
    "    def __repr__(self):\n",
    "        return f\"Student ID: {self.student_id}, Name : {self.name},Grades : {(self.grades)}  \"   \n",
    "        #repr خاصة بالديفيلوبر\n",
    "    def info (self):\n",
    "        return self.name   \n",
    "    def add_grade(self , course_id , grade):\n",
    "        self.grades[course_id] = grade\n",
    "\n",
    "    def enrolled_in_course(self , course):    \n",
    "        self.enrolled_courses.append(course)\n",
    "    \n"
   ]
  },
  {
   "cell_type": "code",
   "execution_count": 41,
   "id": "5a5486ea",
   "metadata": {},
   "outputs": [
    {
     "data": {
      "text/plain": [
       "'Student ID: 2, Name : Ahmed,Grades : {2: 30}  '"
      ]
     },
     "execution_count": 41,
     "metadata": {},
     "output_type": "execute_result"
    }
   ],
   "source": [
    "\n",
    "s1 = Student(\"Ahmed\")\n",
    "s1.add_grade(2, 30)\n",
    "s1.enrolled_in_course(\"data science\")\n",
    "str(s1)\n"
   ]
  },
  {
   "cell_type": "code",
   "execution_count": 31,
   "id": "e09c053c",
   "metadata": {},
   "outputs": [
    {
     "data": {
      "text/plain": [
       "<bound method Student.info of Student ID: 1, Name : edwef,Grades : {}  >"
      ]
     },
     "execution_count": 31,
     "metadata": {},
     "output_type": "execute_result"
    }
   ],
   "source": [
    "s1.info"
   ]
  },
  {
   "cell_type": "code",
   "execution_count": 49,
   "id": "ff917e90",
   "metadata": {},
   "outputs": [],
   "source": [
    "class Course:\n",
    "    _id_counter = 1  \n",
    "\n",
    "    def __init__(self, name):\n",
    "        self.course_id = Course._id_counter\n",
    "        Course._id_counter += 1\n",
    "\n",
    "        self.name = name\n",
    "        self.enrolled_students = []\n",
    "\n",
    "    def __str__(self):\n",
    "        return f\"Course ID: {self.course_id}, Name: {self.name}, Enrolled: {len(self.enrolled_students)}\"\n",
    "\n",
    "    def enroll_student(self,student):\n",
    "        if student not in self.enrolled_students:\n",
    "            self.enrolled_students.append(student)\n",
    "            print(\"Student Enrollment Successfully\")\n",
    "        else:\n",
    "            print(\"Student is already enrolled in this course\")\n",
    "    \n",
    "    def remove_student(self,student):\n",
    "        for student in self.Courses.values():\n",
    "            if student in self.enrolled_students:\n",
    "                course.enrolled_students.remove(student)\n"
   ]
  },
  {
   "cell_type": "code",
   "execution_count": null,
   "id": "5464280e",
   "metadata": {},
   "outputs": [
    {
     "name": "stdout",
     "output_type": "stream",
     "text": [
      "Course ID: 1, Name: DS, Enrolled: 0\n"
     ]
    },
    {
     "ename": "",
     "evalue": "",
     "output_type": "error",
     "traceback": [
      "\u001b[1;31mThe Kernel crashed while executing code in the current cell or a previous cell. \n",
      "\u001b[1;31mPlease review the code in the cell(s) to identify a possible cause of the failure. \n",
      "\u001b[1;31mClick <a href='https://aka.ms/vscodeJupyterKernelCrash'>here</a> for more info. \n",
      "\u001b[1;31mView Jupyter <a href='command:jupyter.viewOutput'>log</a> for further details."
     ]
    }
   ],
   "source": [
    "c1 = Course(\"DS\")\n",
    "print(str(c1))\n"
   ]
  },
  {
   "cell_type": "code",
   "execution_count": null,
   "id": "c1720251",
   "metadata": {},
   "outputs": [],
   "source": []
  }
 ],
 "metadata": {
  "kernelspec": {
   "display_name": "base",
   "language": "python",
   "name": "python3"
  },
  "language_info": {
   "codemirror_mode": {
    "name": "ipython",
    "version": 3
   },
   "file_extension": ".py",
   "mimetype": "text/x-python",
   "name": "python",
   "nbconvert_exporter": "python",
   "pygments_lexer": "ipython3",
   "version": "3.12.7"
  }
 },
 "nbformat": 4,
 "nbformat_minor": 5
}
