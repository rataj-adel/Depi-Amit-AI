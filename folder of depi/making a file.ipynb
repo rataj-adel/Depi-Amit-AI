{
 "cells": [
  {
   "cell_type": "code",
   "execution_count": 1,
   "id": "3fbc8190",
   "metadata": {},
   "outputs": [],
   "source": [
    "import os\n",
    "import random"
   ]
  },
  {
   "cell_type": "code",
   "execution_count": 2,
   "id": "3854ed68",
   "metadata": {},
   "outputs": [],
   "source": [
    "folder=\"new_fold\"\n",
    "num_files=6"
   ]
  },
  {
   "cell_type": "code",
   "execution_count": 3,
   "id": "b2583e50",
   "metadata": {},
   "outputs": [],
   "source": [
    "os.makedirs(folder,exist_ok=True)"
   ]
  },
  {
   "cell_type": "code",
   "execution_count": 4,
   "id": "261948d8",
   "metadata": {},
   "outputs": [],
   "source": [
    "for i in range(num_files):\n",
    "     file_path= os.path.join (folder, \n",
    "f\"file_{i+1}.txt\")\n",
    "     \n",
    "     with open(file_path,\"w\") as f:\n",
    "       f.write(f\"this is a file {i+1}\") "
   ]
  },
  {
   "cell_type": "code",
   "execution_count": 5,
   "id": "b1a1ffd2",
   "metadata": {},
   "outputs": [],
   "source": [
    "files=os.listdir(folder)"
   ]
  },
  {
   "cell_type": "code",
   "execution_count": 6,
   "id": "6e4ccd34",
   "metadata": {},
   "outputs": [],
   "source": [
    "to_del=random.sample(files,k=len(files)//2)\n"
   ]
  },
  {
   "cell_type": "code",
   "execution_count": 7,
   "id": "abaf72f1",
   "metadata": {},
   "outputs": [],
   "source": [
    "for f in to_del:\n",
    "    os.remove(os.path.join(folder,f))"
   ]
  },
  {
   "cell_type": "code",
   "execution_count": 8,
   "id": "99e2da3f",
   "metadata": {},
   "outputs": [],
   "source": [
    "remaining = os.listdir(folder)"
   ]
  },
  {
   "cell_type": "code",
   "execution_count": 9,
   "id": "d1277f05",
   "metadata": {},
   "outputs": [
    {
     "name": "stdout",
     "output_type": "stream",
     "text": [
      "num of original files 6\n",
      "num of deleted files 3\n",
      "remaining files 3\n"
     ]
    }
   ],
   "source": [
    "print(\"num of original files\", len(files))\n",
    "print(\"num of deleted files\", len(to_del))\n",
    "print(\"remaining files\", len(remaining))\n"
   ]
  },
  {
   "cell_type": "code",
   "execution_count": null,
   "id": "23ffe970",
   "metadata": {},
   "outputs": [
    {
     "name": "stdout",
     "output_type": "stream",
     "text": [
      "15\n",
      "2.0\n",
      "50\n",
      "5\n"
     ]
    }
   ],
   "source": [
    "class Processor:\n",
    "    def __init__(self, val1, val2): \n",
    "        self.x = val1\n",
    "        self.y = val2\n",
    "\n",
    "    def do_addition(self):\n",
    "        print(self.x + self.y)\n",
    "\n",
    "    def do_subtraction(self):\n",
    "        print(self.x - self.y)\n",
    "\n",
    "    def do_multiplication(self):\n",
    "        print(self.x * self.y)\n",
    "\n",
    "    def do_division(self):\n",
    "        print(self.x / self.y)\n",
    "\n",
    "\n",
    "p = Processor(10, 5)\n",
    "p.do_addition()\n",
    "p.do_division()\n",
    "p.do_multiplication()\n",
    "p.do_subtraction()\n"
   ]
  },
  {
   "cell_type": "code",
   "execution_count": null,
   "id": "35dbe117",
   "metadata": {},
   "outputs": [],
   "source": []
  }
 ],
 "metadata": {
  "kernelspec": {
   "display_name": "base",
   "language": "python",
   "name": "python3"
  },
  "language_info": {
   "codemirror_mode": {
    "name": "ipython",
    "version": 3
   },
   "file_extension": ".py",
   "mimetype": "text/x-python",
   "name": "python",
   "nbconvert_exporter": "python",
   "pygments_lexer": "ipython3",
   "version": "3.12.7"
  }
 },
 "nbformat": 4,
 "nbformat_minor": 5
}
