{
 "cells": [
  {
   "cell_type": "code",
   "execution_count": 4,
   "id": "010bf843",
   "metadata": {},
   "outputs": [],
   "source": [
    "#Task 4 , Session 1 basics python\n",
    "msg=\"##$$$@!yalpstecejorp EPUVT****9887 \""
   ]
  },
  {
   "cell_type": "code",
   "execution_count": 5,
   "id": "837433ef",
   "metadata": {},
   "outputs": [
    {
     "name": "stdout",
     "output_type": "stream",
     "text": [
      "yalpstecejorp EPUVT\n"
     ]
    }
   ],
   "source": [
    "new_msg=msg[7:26]\n",
    "print(new_msg)"
   ]
  },
  {
   "cell_type": "code",
   "execution_count": 6,
   "id": "391320fd",
   "metadata": {},
   "outputs": [],
   "source": [
    "first,sec=new_msg.split()\n",
    "fir_revers=\"\"\n",
    "for i in range(len(first)-1,-1,-1):\n",
    "    fir_revers+=first[i]    \n",
    "    "
   ]
  },
  {
   "cell_type": "code",
   "execution_count": 7,
   "id": "58b5c613",
   "metadata": {},
   "outputs": [
    {
     "name": "stdout",
     "output_type": "stream",
     "text": [
      "APOVT\n"
     ]
    }
   ],
   "source": [
    "sec=\"EPUVT\"\n",
    "sec = sec.replace('E', 'A')\n",
    "sec = sec.replace('U', 'O')\n",
    "\n",
    "print(sec)\n"
   ]
  },
  {
   "cell_type": "code",
   "execution_count": 8,
   "id": "379f8474",
   "metadata": {},
   "outputs": [
    {
     "name": "stdout",
     "output_type": "stream",
     "text": [
      "projecetsplay APOVT\n"
     ]
    }
   ],
   "source": [
    "final=f\"{fir_revers} {sec}\"\n",
    "print(final)"
   ]
  },
  {
   "cell_type": "code",
   "execution_count": 9,
   "id": "ad8466f0",
   "metadata": {},
   "outputs": [],
   "source": [
    "list_one=[1,2,3,4,\"depi\",\"learning\",True,[1,2,3,\"true\",[\"ml\",\"dl\",\"ds\"]]]"
   ]
  },
  {
   "cell_type": "code",
   "execution_count": 10,
   "id": "a8e40336",
   "metadata": {},
   "outputs": [
    {
     "data": {
      "text/plain": [
       "list"
      ]
     },
     "execution_count": 10,
     "metadata": {},
     "output_type": "execute_result"
    }
   ],
   "source": [
    "type(list_one)"
   ]
  },
  {
   "cell_type": "code",
   "execution_count": 11,
   "id": "dec658ef",
   "metadata": {},
   "outputs": [
    {
     "data": {
      "text/plain": [
       "'dl'"
      ]
     },
     "execution_count": 11,
     "metadata": {},
     "output_type": "execute_result"
    }
   ],
   "source": [
    "list_one[7][4][1] \n",
    "# بعد العناصر اللي جوا الليست الكبيرة واحدد العنصر اللي محتاجاه واحدد من جواه وهكذا\n"
   ]
  },
  {
   "cell_type": "code",
   "execution_count": 12,
   "id": "f4b61650",
   "metadata": {},
   "outputs": [],
   "source": [
    "list_one[4]=\"amit\""
   ]
  },
  {
   "cell_type": "code",
   "execution_count": 13,
   "id": "92c2abf9",
   "metadata": {},
   "outputs": [
    {
     "data": {
      "text/plain": [
       "[1, 2, 3, 4, 'amit', 'learning', True, [1, 2, 3, 'true', ['ml', 'dl', 'ds']]]"
      ]
     },
     "execution_count": 13,
     "metadata": {},
     "output_type": "execute_result"
    }
   ],
   "source": [
    "list_one"
   ]
  },
  {
   "cell_type": "code",
   "execution_count": 14,
   "id": "1239d9ce",
   "metadata": {},
   "outputs": [
    {
     "name": "stdout",
     "output_type": "stream",
     "text": [
      "<class 'str'>\n",
      "<class 'list'>\n"
     ]
    }
   ],
   "source": [
    "x=\"george\"\n",
    "print(type(x))\n",
    "y=list(x)\n",
    "print(type(y))\n"
   ]
  },
  {
   "cell_type": "code",
   "execution_count": 15,
   "id": "5e5949b9",
   "metadata": {},
   "outputs": [
    {
     "name": "stdout",
     "output_type": "stream",
     "text": [
      "['data structure', 'depi', 'data', 'science', 'machine learning']\n"
     ]
    }
   ],
   "source": [
    "l_1=[\"depi\",\"data\",\"science\"]\n",
    "l_1.append(\"machine learning\")\n",
    "#l_1+[\"ah\"] ايه الفرق؟\n",
    "l_1.insert(0,\"data structure\")\n",
    "print(l_1)"
   ]
  },
  {
   "cell_type": "code",
   "execution_count": 16,
   "id": "a01606d1",
   "metadata": {},
   "outputs": [
    {
     "data": {
      "text/plain": [
       "[1, 2, 3, 4, 5, 6]"
      ]
     },
     "execution_count": 16,
     "metadata": {},
     "output_type": "execute_result"
    }
   ],
   "source": [
    "x1=[1,2,3]\n",
    "x2=[4,5,6]\n",
    "#z=x1+x2 زي الاكستيند \n",
    "#z\n",
    "#x1.append(x2)\n",
    "#x1 بيضيف الليست كاملة مش العناصر بس\n",
    "x1.extend(x2)\n",
    "x1"
   ]
  },
  {
   "cell_type": "code",
   "execution_count": 17,
   "id": "905d5254",
   "metadata": {},
   "outputs": [
    {
     "data": {
      "text/plain": [
       "['data structure', 'data', 'science', 'machine learning']"
      ]
     },
     "execution_count": 17,
     "metadata": {},
     "output_type": "execute_result"
    }
   ],
   "source": [
    "l_1.remove(\"depi\")\n",
    "l_1\n"
   ]
  },
  {
   "cell_type": "code",
   "execution_count": 18,
   "id": "84f20085",
   "metadata": {},
   "outputs": [
    {
     "name": "stdout",
     "output_type": "stream",
     "text": [
      "machine learning\n"
     ]
    }
   ],
   "source": [
    "print(l_1.pop())\n",
    "\n",
    "#مسح ماشيين ليرننج"
   ]
  },
  {
   "cell_type": "code",
   "execution_count": 19,
   "id": "8cfdc51a",
   "metadata": {},
   "outputs": [
    {
     "ename": "ValueError",
     "evalue": "invalid literal for int() with base 10: 'rrrr'",
     "output_type": "error",
     "traceback": [
      "\u001b[1;31m---------------------------------------------------------------------------\u001b[0m",
      "\u001b[1;31mValueError\u001b[0m                                Traceback (most recent call last)",
      "Cell \u001b[1;32mIn[19], line 1\u001b[0m\n\u001b[1;32m----> 1\u001b[0m name\u001b[38;5;241m=\u001b[39m\u001b[38;5;28mint\u001b[39m(\u001b[38;5;28minput\u001b[39m())\n\u001b[0;32m      2\u001b[0m name\n",
      "\u001b[1;31mValueError\u001b[0m: invalid literal for int() with base 10: 'rrrr'"
     ]
    }
   ],
   "source": [
    "name=int(input())\n",
    "name"
   ]
  },
  {
   "cell_type": "code",
   "execution_count": null,
   "id": "cae23092",
   "metadata": {},
   "outputs": [
    {
     "data": {
      "text/plain": [
       "[1, 2, 3, 5, 6, 10]"
      ]
     },
     "execution_count": 57,
     "metadata": {},
     "output_type": "execute_result"
    }
   ],
   "source": [
    "list=[10,3,5,1,6,2]\n",
    "list.sort()\n",
    "list\n",
    "#reverse,clear,del وكتييييييييييررررررررررررررررررررررررررر "
   ]
  },
  {
   "cell_type": "code",
   "execution_count": null,
   "id": "213467a2",
   "metadata": {},
   "outputs": [
    {
     "name": "stdout",
     "output_type": "stream",
     "text": [
      "<class 'list'>\n",
      "[1, 2, 3, 4, 'depi', 'learning', True, [1, 2, 3, 'true', ('ml', 'dl', 'ds')]]\n",
      "(1, 2, 3, 4, 'depi', 'learning', True, [1, 2, 3, 'true', ('ml', 'dl', 'ds')])\n",
      "<class 'tuple'>\n"
     ]
    }
   ],
   "source": [
    "tup_one=(1, 2, 3, 4, 'amit', 'learning', True, [1, 2, 3, 'true', ('ml', 'dl', 'ds')])\n",
    "type(tup_one)\n",
    "x=list(tup_one)\n",
    "print(type(x))\n",
    "x[4]=\"depi\"\n",
    "print(x)\n",
    "y=tuple(x)\n",
    "print(y)\n",
    "print(type(y))\n"
   ]
  },
  {
   "cell_type": "code",
   "execution_count": null,
   "id": "f97ba0b9",
   "metadata": {},
   "outputs": [
    {
     "data": {
      "text/plain": [
       "set"
      ]
     },
     "execution_count": 7,
     "metadata": {},
     "output_type": "execute_result"
    }
   ],
   "source": [
    "z2=[\"ahmed\",\"ahmed\",\"ali\",\"mona\",\"aya\"]\n",
    "z3=set(z2)\n",
    "type(z3)"
   ]
  },
  {
   "cell_type": "code",
   "execution_count": null,
   "id": "0d51ea2f",
   "metadata": {},
   "outputs": [
    {
     "name": "stdout",
     "output_type": "stream",
     "text": [
      "{'key1': 'amit', 'key2': 'ahmed', 'key3': 'python'}\n"
     ]
    }
   ],
   "source": [
    "dict_1 = {\"key1\": 12.7, \"key2\": \"ahmed\", \"key3\": \"python\"}\n",
    "\n",
    "dict_1[\"key1\"] = \"amit\"  \n",
    "\n",
    "print(dict_1)\n"
   ]
  },
  {
   "cell_type": "code",
   "execution_count": null,
   "id": "61496cc8",
   "metadata": {},
   "outputs": [
    {
     "name": "stdout",
     "output_type": "stream",
     "text": [
      "4.2\n"
     ]
    }
   ],
   "source": [
    "x = 20\n",
    "y = 5\n",
    "z = (x + True) / (y + 4 * False)\n",
    "print(z)\n",
    "#true =1 , false =0\n",
    "\n"
   ]
  },
  {
   "cell_type": "code",
   "execution_count": null,
   "id": "722c6010",
   "metadata": {},
   "outputs": [
    {
     "data": {
      "text/plain": [
       "(('a', 1), ('b', 2))"
      ]
     },
     "execution_count": 9,
     "metadata": {},
     "output_type": "execute_result"
    }
   ],
   "source": [
    "list_1=[(\"a\",1),(\"b\",2)]\n",
    "list_1\n",
    "zz=tuple(list_1)\n",
    "zz"
   ]
  },
  {
   "cell_type": "code",
   "execution_count": null,
   "id": "644f2fe6",
   "metadata": {},
   "outputs": [
    {
     "name": "stdout",
     "output_type": "stream",
     "text": [
      "Invalid degree\n"
     ]
    }
   ],
   "source": [
    "deg=int(input())\n",
    "deg\n",
    "if 90<=deg<=100:\n",
    "    print(\"A\")\n",
    "elif 80<=deg<=90:\n",
    "    print(\"B\")  \n",
    "elif 70<=deg<=80:\n",
    "    print(\"C\")  \n",
    "elif 60<=deg<=70:\n",
    "    print(\"D\")\n",
    "elif 0<=deg<=60:\n",
    "    print(\"F\") \n",
    "else:\n",
    "    print(\"Invalid degree\")                   "
   ]
  },
  {
   "cell_type": "code",
   "execution_count": null,
   "id": "95dc761a",
   "metadata": {},
   "outputs": [],
   "source": [
    "#Basics of Functions \n",
    "def info_std(name,age):\n",
    "    print(f\"Name: {name}, Age: {age}\")"
   ]
  },
  {
   "cell_type": "code",
   "execution_count": null,
   "id": "e8cd9a4c",
   "metadata": {},
   "outputs": [
    {
     "name": "stdout",
     "output_type": "stream",
     "text": [
      "Name: rrrr, Age: 20\n"
     ]
    }
   ],
   "source": [
    "info_std(name = \"rrrr\",age = 20)\n",
    "#حدد البوزيشن بتاع الباراميتر"
   ]
  },
  {
   "cell_type": "code",
   "execution_count": 28,
   "id": "b3d9fd5a",
   "metadata": {},
   "outputs": [
    {
     "data": {
      "text/plain": [
       "-0.26237485370392877"
      ]
     },
     "execution_count": 28,
     "metadata": {},
     "output_type": "execute_result"
    }
   ],
   "source": [
    "import math\n",
    "math.sin(50)"
   ]
  },
  {
   "cell_type": "code",
   "execution_count": 32,
   "id": "26f03267",
   "metadata": {},
   "outputs": [],
   "source": [
    "def info_std(name,age = 20):\n",
    "    print(f\"Name: {name}, Age: {age}\")"
   ]
  },
  {
   "cell_type": "code",
   "execution_count": null,
   "id": "268b5382",
   "metadata": {},
   "outputs": [
    {
     "name": "stdout",
     "output_type": "stream",
     "text": [
      "Name: rrrr, Age: 20\n"
     ]
    }
   ],
   "source": [
    "info_std(name = \"rrrr\")\n",
    "#Defualt argument "
   ]
  },
  {
   "cell_type": "code",
   "execution_count": 36,
   "id": "639cad41",
   "metadata": {},
   "outputs": [],
   "source": [
    "def sum_sum(x):\n",
    "    return x+10"
   ]
  },
  {
   "cell_type": "code",
   "execution_count": 39,
   "id": "80b00152",
   "metadata": {},
   "outputs": [
    {
     "data": {
      "text/plain": [
       "20"
      ]
     },
     "execution_count": 39,
     "metadata": {},
     "output_type": "execute_result"
    }
   ],
   "source": [
    "sum_sum(10)"
   ]
  },
  {
   "cell_type": "code",
   "execution_count": 34,
   "id": "5d4b30f1",
   "metadata": {},
   "outputs": [
    {
     "data": {
      "text/plain": [
       "<function __main__.<lambda>(x)>"
      ]
     },
     "execution_count": 34,
     "metadata": {},
     "output_type": "execute_result"
    }
   ],
   "source": [
    "lambda x : x+10"
   ]
  },
  {
   "cell_type": "code",
   "execution_count": 38,
   "id": "d64960aa",
   "metadata": {},
   "outputs": [
    {
     "data": {
      "text/plain": [
       "function"
      ]
     },
     "execution_count": 38,
     "metadata": {},
     "output_type": "execute_result"
    }
   ],
   "source": [
    "sum_n = lambda x:x+10\n",
    "type(sum_n)"
   ]
  },
  {
   "cell_type": "code",
   "execution_count": 41,
   "id": "5b5aac98",
   "metadata": {},
   "outputs": [],
   "source": [
    "def sum_n(n):\n",
    "    return lambda a:a*n"
   ]
  },
  {
   "cell_type": "code",
   "execution_count": null,
   "id": "066ea3f5",
   "metadata": {},
   "outputs": [
    {
     "data": {
      "text/plain": [
       "22"
      ]
     },
     "execution_count": 43,
     "metadata": {},
     "output_type": "execute_result"
    }
   ],
   "source": [
    "fun_1 = sum_n(11)\n",
    "fun_1(3)"
   ]
  },
  {
   "cell_type": "code",
   "execution_count": 45,
   "id": "912e5bf7",
   "metadata": {},
   "outputs": [
    {
     "name": "stdout",
     "output_type": "stream",
     "text": [
      "Not acceptable division by Zero\n"
     ]
    }
   ],
   "source": [
    "try:\n",
    "    5/0\n",
    "except: \n",
    "    print(\"Not acceptable division by Zero\")"
   ]
  },
  {
   "cell_type": "code",
   "execution_count": 51,
   "id": "29ecbfcb",
   "metadata": {},
   "outputs": [
    {
     "name": "stdout",
     "output_type": "stream",
     "text": [
      "5.0\n"
     ]
    }
   ],
   "source": [
    "try:\n",
    "    x=10\n",
    "    y=int(input(\"Enter ur num\"))\n",
    "    result= x/y\n",
    "    print(result)\n",
    "except:\n",
    "    print(\"Not acceptable division by Zero\")\n",
    "    "
   ]
  },
  {
   "cell_type": "code",
   "execution_count": 52,
   "id": "797f2be6",
   "metadata": {},
   "outputs": [
    {
     "name": "stdout",
     "output_type": "stream",
     "text": [
      "5\n"
     ]
    }
   ],
   "source": [
    "a=5\n",
    "y=10\n",
    "try:\n",
    " print(a)\n",
    "except Exception as e:  \n",
    " print(e)"
   ]
  },
  {
   "cell_type": "code",
   "execution_count": 55,
   "id": "1e1c5b0a",
   "metadata": {},
   "outputs": [
    {
     "ename": "ZeroDivisionError",
     "evalue": "division by zero",
     "output_type": "error",
     "traceback": [
      "\u001b[1;31m---------------------------------------------------------------------------\u001b[0m",
      "\u001b[1;31mZeroDivisionError\u001b[0m                         Traceback (most recent call last)",
      "Cell \u001b[1;32mIn[55], line 4\u001b[0m\n\u001b[0;32m      2\u001b[0m y\u001b[38;5;241m=\u001b[39m\u001b[38;5;241m10\u001b[39m\n\u001b[0;32m      3\u001b[0m \u001b[38;5;28;01mtry\u001b[39;00m:\n\u001b[1;32m----> 4\u001b[0m  \u001b[38;5;241m5\u001b[39m\u001b[38;5;241m/\u001b[39m\u001b[38;5;241m0\u001b[39m\n\u001b[0;32m      5\u001b[0m \u001b[38;5;28;01mexcept\u001b[39;00m \u001b[38;5;167;01mNameError\u001b[39;00m:  \n\u001b[0;32m      6\u001b[0m  \u001b[38;5;28mprint\u001b[39m(\u001b[38;5;124m\"\u001b[39m\u001b[38;5;124maaaaaaaaaa\u001b[39m\u001b[38;5;124m\"\u001b[39m)\n",
      "\u001b[1;31mZeroDivisionError\u001b[0m: division by zero"
     ]
    }
   ],
   "source": [
    "a=5\n",
    "y=10\n",
    "try:\n",
    " 5/0\n",
    "except NameError:  \n",
    " print(\"aaaaaaaaaa\")"
   ]
  },
  {
   "cell_type": "code",
   "execution_count": null,
   "id": "0cb0c2c5",
   "metadata": {},
   "outputs": [
    {
     "name": "stdout",
     "output_type": "stream",
     "text": [
      "0.09575060756100558\n"
     ]
    }
   ],
   "source": [
    "#import random\n",
    "\n",
    "#n = random.random()  \n",
    "#def calc_degree(n):\n",
    " #   return n * n  \n",
    "\n",
    "#result = calc_degree(n)\n",
    "#print(result)\n"
   ]
  },
  {
   "cell_type": "code",
   "execution_count": 60,
   "id": "92c783f3",
   "metadata": {},
   "outputs": [],
   "source": [
    "import random\n",
    "n = random.random"
   ]
  },
  {
   "cell_type": "code",
   "execution_count": 61,
   "id": "cab98c7f",
   "metadata": {},
   "outputs": [
    {
     "data": {
      "text/plain": [
       "100"
      ]
     },
     "execution_count": 61,
     "metadata": {},
     "output_type": "execute_result"
    }
   ],
   "source": [
    "def calc_degree(n):\n",
    "    return n*n\n",
    "calc_degree(10)"
   ]
  },
  {
   "cell_type": "code",
   "execution_count": null,
   "id": "a9507366",
   "metadata": {},
   "outputs": [],
   "source": []
  },
  {
   "cell_type": "code",
   "execution_count": 62,
   "id": "da271b5f",
   "metadata": {},
   "outputs": [],
   "source": [
    "import os"
   ]
  },
  {
   "cell_type": "code",
   "execution_count": 64,
   "id": "9b25d463",
   "metadata": {},
   "outputs": [
    {
     "name": "stdout",
     "output_type": "stream",
     "text": [
      "3\n"
     ]
    }
   ],
   "source": [
    "import random\n",
    "\n",
    "my_list = [1, 2, 3, 4]\n",
    "print(random.choice(my_list))\n"
   ]
  },
  {
   "cell_type": "code",
   "execution_count": null,
   "id": "5d44f9dd",
   "metadata": {},
   "outputs": [],
   "source": [
    "file= os.lis"
   ]
  }
 ],
 "metadata": {
  "kernelspec": {
   "display_name": "base",
   "language": "python",
   "name": "python3"
  },
  "language_info": {
   "codemirror_mode": {
    "name": "ipython",
    "version": 3
   },
   "file_extension": ".py",
   "mimetype": "text/x-python",
   "name": "python",
   "nbconvert_exporter": "python",
   "pygments_lexer": "ipython3",
   "version": "3.12.7"
  }
 },
 "nbformat": 4,
 "nbformat_minor": 5
}
