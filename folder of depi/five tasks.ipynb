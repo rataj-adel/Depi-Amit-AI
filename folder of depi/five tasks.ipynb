{
 "cells": [
  {
   "cell_type": "code",
   "execution_count": null,
   "id": "f5453184",
   "metadata": {},
   "outputs": [
    {
     "name": "stdout",
     "output_type": "stream",
     "text": [
      "2 x 1 = 2\n",
      "2 x 2 = 4\n",
      "2 x 3 = 6\n",
      "2 x 4 = 8\n",
      "2 x 5 = 10\n",
      "2 x 6 = 12\n",
      "2 x 7 = 14\n",
      "2 x 8 = 16\n",
      "2 x 9 = 18\n",
      "2 x 10 = 20\n"
     ]
    }
   ],
   "source": [
    "#Q1\n",
    "def print_Multiplicate_table(number):\n",
    "    for i in range(1 , 11): \n",
    "     result = i * number\n",
    "     print(f\"{number} x {i} = {result}\")\n",
    "\n",
    "num = int(input(\"Enter num: \"))\n",
    "print_Multiplicate_table(num)\n",
    "    "
   ]
  },
  {
   "cell_type": "code",
   "execution_count": 1,
   "id": "626b8e53",
   "metadata": {},
   "outputs": [],
   "source": [
    "#Q2\n",
    "def print_Primes_lessthan_1000():\n",
    "     \n",
    "    for x in range (2,1000):\n",
    "        is_prime = True \n",
    "    for i in range(2,int(x **0.5) + 1):\n",
    "        if x % i == 0 :  \n",
    "         is_prime = False\n",
    "         break\n",
    "    if is_prime:\n",
    "       print(x)\n",
    "\n",
    "def print_Twin_Primes_lessthan_1000():\n",
    "    primes = []\n",
    "    for x in range (2,1000):\n",
    "        is_prime = True \n",
    "    for i in range(2 , int(x ** 0.5) + 1):\n",
    "        if x % i == 0 :  \n",
    "         is_prime = False\n",
    "         break\n",
    "    if is_prime:\n",
    "        primes.append(x)\n",
    "\n",
    "    for num in range (len(primes) - 1):\n",
    "\n",
    "        if primes[num + 1] - primes[num] == 2:\n",
    "          \n",
    "          print(f\"({primes [num]},{primes [num +1]})\")  \n",
    "\n",
    "        print(\"Primes less than 1000\" ) \n",
    "        print_Primes_lessthan_1000\n",
    "        \n",
    "        print(\" Twine Primes less than 1000\")\n",
    "        print_Twin_Primes_lessthan_1000\n",
    "               \n",
    "   \n"
   ]
  },
  {
   "cell_type": "code",
   "execution_count": 3,
   "id": "6702a321",
   "metadata": {},
   "outputs": [
    {
     "name": "stdout",
     "output_type": "stream",
     "text": [
      "3\n",
      "7\n"
     ]
    }
   ],
   "source": [
    "#Q3\n",
    "def prime_factors(n):\n",
    "    i = 2\n",
    "    while n > 1:\n",
    "        if n % i == 0:\n",
    "            print(i)\n",
    "            n = n // i\n",
    "        else: \n",
    "            i += 1\n",
    "num = int(input(\"Enter Num: \"))\n",
    "prime_factors(num)             \n"
   ]
  },
  {
   "cell_type": "code",
   "execution_count": 5,
   "id": "3d1ab37f",
   "metadata": {},
   "outputs": [
    {
     "name": "stdout",
     "output_type": "stream",
     "text": [
      "11\n",
      "None\n"
     ]
    }
   ],
   "source": [
    "#Q4 \n",
    "def decimal_to_Bin(n):\n",
    "    print(bin(n)[2:])\n",
    "num = int(input(\"Enter a Decimal Num: \"))\n",
    "print(decimal_to_Bin(num))    "
   ]
  },
  {
   "cell_type": "code",
   "execution_count": 4,
   "id": "ef65ba56",
   "metadata": {},
   "outputs": [],
   "source": [
    "#Q5 \n",
    "def perfectNum(x , y):\n",
    "    for n in range(x , y + 1):\n",
    "        total = 0\n",
    "    for i in range(1 , n):\n",
    "        if n % i == 0:\n",
    "            total += i \n",
    "    if total == n and n != 0:\n",
    "        print(n)   \n",
    "\n",
    "perfectNum(0 , 100)             "
   ]
  },
  {
   "cell_type": "code",
   "execution_count": null,
   "id": "0314a2b8",
   "metadata": {},
   "outputs": [],
   "source": []
  }
 ],
 "metadata": {
  "kernelspec": {
   "display_name": "base",
   "language": "python",
   "name": "python3"
  },
  "language_info": {
   "codemirror_mode": {
    "name": "ipython",
    "version": 3
   },
   "file_extension": ".py",
   "mimetype": "text/x-python",
   "name": "python",
   "nbconvert_exporter": "python",
   "pygments_lexer": "ipython3",
   "version": "3.12.7"
  }
 },
 "nbformat": 4,
 "nbformat_minor": 5
}
