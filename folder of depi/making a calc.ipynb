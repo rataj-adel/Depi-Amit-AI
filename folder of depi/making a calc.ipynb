{
 "cells": [
  {
   "cell_type": "code",
   "execution_count": 6,
   "id": "eaadf3bc",
   "metadata": {},
   "outputs": [
    {
     "name": "stdout",
     "output_type": "stream",
     "text": [
      "Choose an Operation:\n",
      "1. Addition\n",
      "2. Subtraction\n",
      "3. Multiplication\n",
      "4. Division\n",
      "The Result is :  6\n"
     ]
    }
   ],
   "source": [
    "def calc():\n",
    "    print(\"Choose an Operation:\")\n",
    "    print(\"1. Addition\")\n",
    "    print(\"2. Subtraction\")\n",
    "    print(\"3. Multiplication\")\n",
    "    print(\"4. Division\")\n",
    "\n",
    "    choice = input(\"You can choose from (1-4) Only\")\n",
    "    if choice not in {\"1\" , \"2\" , \"3\" , \"4\"}:\n",
    "        print(\"Invalid Number \")\n",
    "        return\n",
    "    \n",
    "    try:\n",
    "        a = int(input(\"Enter First Num\"))\n",
    "        b = int(input(\"Enter Second Num\"))\n",
    "    except ValueError:\n",
    "        print(\"Please Enter Valid Numbers\")\n",
    "        return\n",
    "\n",
    "    if choice == \"1\":\n",
    "        result = a+b \n",
    "    elif choice == \"2\":\n",
    "        result = a-b \n",
    "    elif choice == \"3\":\n",
    "        result = a*b \n",
    "    elif choice == \"4\":\n",
    "        if b == 0:\n",
    "            print(\"Error, Division By Zero!! \")  \n",
    "            return\n",
    "        result = a/b\n",
    "\n",
    "    print(\"The Result is : \", result)     \n",
    "calc()\n"
   ]
  }
 ],
 "metadata": {
  "kernelspec": {
   "display_name": "base",
   "language": "python",
   "name": "python3"
  },
  "language_info": {
   "codemirror_mode": {
    "name": "ipython",
    "version": 3
   },
   "file_extension": ".py",
   "mimetype": "text/x-python",
   "name": "python",
   "nbconvert_exporter": "python",
   "pygments_lexer": "ipython3",
   "version": "3.12.7"
  }
 },
 "nbformat": 4,
 "nbformat_minor": 5
}
